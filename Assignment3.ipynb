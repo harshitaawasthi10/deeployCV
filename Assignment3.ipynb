{
 "cells": [
  {
   "cell_type": "markdown",
   "id": "d2433df3-d990-4211-9ef8-2546a041a180",
   "metadata": {},
   "source": [
    "### QUES.1"
   ]
  },
  {
   "cell_type": "code",
   "execution_count": null,
   "id": "12739e39-6de1-47e4-adc8-fbedb752d981",
   "metadata": {},
   "outputs": [],
   "source": [
    "import os\n",
    "import torch\n",
    "from PIL import Image\n",
    "import torch.nn as nn\n",
    "from torchvision import models, transforms\n",
    "from annoy import AnnoyIndex\n",
    "\n",
    "images_folder='/content/doggy ismage.jpeg'\n",
    "images=os.listdir(images_folder)\n",
    "\n",
    "weights=models.ResNet18_Weights.IMAGENET1K_V1\n",
    "model=models.resent18(weights=weights)\n",
    "model.fc=nn.Identity()\n",
    "\n",
    "print(model)\n",
    "model.eval()\n",
    "transform=transform.Compose([transforms.Resize((224,224)),transforms.ToTensor()])\n",
    "\n",
    "annoy_index=Annoy_Index(512, 'angular')\n",
    "\n",
    "for i in range(len(images)):\n",
    "    image=Image.open(os.path.join(images_folder, images[i]))\n",
    "    input_tensor=transform(image).unsqueeze(0)\n",
    "    if input_tensor.size()[1]==3:\n",
    "        output_tensor=model(input_tensor)\n",
    "        annoy_index.add_item(i.output_tensor[0])    \n",
    "        if i%100 ==0 :\n",
    "            print(f'Processed {i} images')\n",
    "\n",
    "annoy_index.build(10)\n",
    "annoy_index.save('dog_index.ann')"
   ]
  },
  {
   "cell_type": "markdown",
   "id": "81570d1d-765f-478d-a09e-0e07abe5541d",
   "metadata": {},
   "source": [
    "### QUES.2"
   ]
  },
  {
   "cell_type": "code",
   "execution_count": null,
   "id": "84458317-b526-4404-90e4-52f919d561b5",
   "metadata": {},
   "outputs": [],
   "source": [
    "import numpy as np\n",
    "\n",
    "# Ridge Regression Function\n",
    "def ridge_regression(X, y, lambda_reg):\n",
    "    \"\"\"\n",
    "    X: Feature matrix (n_samples, n_features)\n",
    "    y: Target vector (n_samples,)\n",
    "    lambda_reg: Regularization strength\n",
    "    \"\"\"\n",
    "    n_features = X.shape[1]\n",
    "    I = np.eye(n_features)  # Identity matrix\n",
    "    # Closed-form solution: w = (X^T X + lambda * I)^-1 X^T y\n",
    "    w = np.linalg.inv(X.T @ X + lambda_reg * I) @ X.T @ y\n",
    "    return w\n",
    "\n",
    "# User Inputs\n",
    "n_features = int(input(\"Enter the number of features: \"))\n",
    "n_data_points = int(input(\"Enter the number of data points: \"))\n",
    "\n",
    "print(\"Enter the feature values row-wise (one row for each data point):\")\n",
    "X = []\n",
    "for _ in range(n_data_points):\n",
    "    row = list(map(float, input().split()))\n",
    "    X.append(row)\n",
    "X = np.array(X)\n",
    "\n",
    "y = []\n",
    "print(\"Enter the target values (one per data point):\")\n",
    "for _ in range(n_data_points):\n",
    "    y.append(float(input()))\n",
    "y = np.array(y)\n",
    "\n",
    "# Regularization parameter\n",
    "lambda_reg = float(input(\"Enter the regularization strength (lambda): \"))\n",
    "\n",
    "# Perform Ridge Regression\n",
    "weights = ridge_regression(X, y, lambda_reg)\n",
    "\n",
    "# Output the best-fitting plane\n",
    "print(\"\\nThe coefficients (weights) of the best-fitting plane are:\")\n",
    "print(weights)\n"
   ]
  }
 ],
 "metadata": {
  "kernelspec": {
   "display_name": "Python 3 (ipykernel)",
   "language": "python",
   "name": "python3"
  },
  "language_info": {
   "codemirror_mode": {
    "name": "ipython",
    "version": 3
   },
   "file_extension": ".py",
   "mimetype": "text/x-python",
   "name": "python",
   "nbconvert_exporter": "python",
   "pygments_lexer": "ipython3",
   "version": "3.13.3"
  }
 },
 "nbformat": 4,
 "nbformat_minor": 5
}
